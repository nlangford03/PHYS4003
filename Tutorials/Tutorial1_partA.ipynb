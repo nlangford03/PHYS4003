{
  "cells": [
    {
      "cell_type": "markdown",
      "metadata": {
        "id": "TWKtfPl0KjwB"
      },
      "source": [
        "## Student Name: Natalie Langford\n",
        "\n",
        "---\n",
        "# Tutorial 1 - Part A: Descriptive statistics\n",
        "\n",
        "All the parts that require action (either in the code or equations) are flagged by `<your turn>` or $\\color{red}{<your~turn>}$"
      ]
    },
    {
      "cell_type": "code",
      "execution_count": null,
      "metadata": {
        "tags": [],
        "id": "be6ahnkMKjwD"
      },
      "outputs": [],
      "source": [
        "import numpy as np\n",
        "import scipy.stats as st\n",
        "from scipy.optimize import fsolve\n",
        "from scipy.integrate import quad\n",
        "import matplotlib.pylab as plt\n",
        "import matplotlib.colors as colors\n",
        "\n",
        "# Setting plot fonts\n",
        "plt.rc('font', family='serif')\n",
        "\n",
        "# Below is a set of colors for matplotlib that is color-vision-defiency friendly.\n",
        "# To use them in plotting commands, you can simply set \"color=colorset[N]\",\n",
        "# where N is an integer in [0,16), reflecting the index of the colors below.\n",
        "colorset = ['#000000','#00270C','#00443C','#005083',\n",
        "            '#034BCA','#483CFC','#9C2BFF','#EB24F4',\n",
        "            '#FF2DC2','#FF4986','#FF7356','#FFA443',\n",
        "            '#EBD155','#D3F187','#D7FFC8','#FFFFFF']"
      ]
    },
    {
      "cell_type": "markdown",
      "metadata": {
        "id": "zUI6KhMIKjwF"
      },
      "source": [
        "## Properties of PDFs\n",
        "\n",
        "We are going to define an arbitrary function which may be a PDF and study its properties."
      ]
    },
    {
      "cell_type": "code",
      "execution_count": null,
      "metadata": {
        "id": "K0lNZtHcKjwF"
      },
      "outputs": [],
      "source": [
        "def my_pdf(x, a):\n",
        "    \"\"\"\n",
        "    x: independent variable\n",
        "\n",
        "    a: a shape parameter\n",
        "    \"\"\"\n",
        "    return 2 * st.norm.pdf(x) * st.norm.cdf(a*x)"
      ]
    },
    {
      "cell_type": "markdown",
      "metadata": {
        "id": "SAu_lQ5eKjwF"
      },
      "source": [
        "Assume $a=-10$ and perform the following analyses.\n",
        "\n",
        "### Plot the PDF."
      ]
    },
    {
      "cell_type": "code",
      "execution_count": 31,
      "metadata": {
        "id": "Z84BcXCIKjwF",
        "outputId": "9be7ad46-bb3b-4d54-925c-2e25a247dedd",
        "colab": {
          "base_uri": "https://localhost:8080/",
          "height": 558
        }
      },
      "outputs": [
        {
          "output_type": "display_data",
          "data": {
            "text/plain": [
              "<Figure size 800x600 with 1 Axes>"
            ],
            "image/png": "[encoded data removed]"
          },
          "metadata": {}
        }
      ],
      "source": [
        "# <your turn> : define variables and calculations you may need here.\n",
        "x = np.linspace(-30, 30, 100)\n",
        "y = my_pdf(x,-10)\n",
        "\n",
        "\n",
        "# Initiating the figure\n",
        "fig = plt.figure(figsize=(8,6))\n",
        "ax = fig.add_subplot(1,1,1)\n",
        "# <your turn> : add your plotting commands here.\n",
        "ax.plot(y)\n",
        "\n",
        "\n",
        "# Plot cosmetics - feel free to edit.\n",
        "ax.set_xlabel('X',fontsize=20)\n",
        "ax.set_ylabel('P(X)', fontsize=20)\n",
        "ax.tick_params(axis='both', which='major', labelsize=16)\n",
        "ax.tick_params(axis='both', which='major', length=5)\n",
        "ax.tick_params(axis='both', which='minor', length=2.5)\n",
        "ax.tick_params(axis='both', which='both',direction='in',right=True,top=True);"
      ]
    },
    {
      "cell_type": "markdown",
      "metadata": {
        "id": "Xr9xBHy7KjwG"
      },
      "source": [
        "### Use the Kolomogrov axioms and show that the function defined above can be a PDF."
      ]
    },
    {
      "cell_type": "code",
      "execution_count": 29,
      "metadata": {
        "id": "sUVA9TqTKjwG",
        "outputId": "3ae82a23-3bf2-4120-95d4-bdb1d049b560",
        "colab": {
          "base_uri": "https://localhost:8080/"
        }
      },
      "outputs": [
        {
          "output_type": "stream",
          "name": "stdout",
          "text": [
            "[False False False False False False False False False False False False\n",
            " False False False False False False False False False False False False\n",
            " False False False False False False False False False False False False\n",
            " False False False False False False False False False False False False\n",
            " False False False False False False False False False False False False\n",
            " False False False False False False False False False False False False\n",
            " False False False False False False False False False False False False\n",
            " False False False False False False False False False False False False\n",
            " False False False False]\n"
          ]
        },
        {
          "output_type": "execute_result",
          "data": {
            "text/plain": [
              "(1.0, 7.68345531942519e-10)"
            ]
          },
          "metadata": {},
          "execution_count": 29
        }
      ],
      "source": [
        "# <your turn>\n",
        "\n",
        "#1 P(A)>=0 for each A\n",
        "print(y<0)\n",
        "\n",
        "#2 P(S)=1 (area = 1)\n",
        "quad(my_pdf, -10, 10, args=(-10))\n",
        "\n",
        "#3\n"
      ]
    },
    {
      "cell_type": "markdown",
      "metadata": {
        "id": "sfbBZb6SKjwH"
      },
      "source": [
        "### Calculate the expectation value, standard deviation, kurtosis, skewness, mode, median and 95% quantile.\n",
        "\n",
        "*Note*: Define each as a python function of $a$. This will allow easier comparison and test later on.\n",
        "\n",
        "#### Expectation value"
      ]
    },
    {
      "cell_type": "code",
      "execution_count": 57,
      "metadata": {
        "id": "0X6waSPMKjwH",
        "outputId": "75d54ede-5460-46af-fd55-778ad51706ed",
        "colab": {
          "base_uri": "https://localhost:8080/"
        }
      },
      "outputs": [
        {
          "output_type": "stream",
          "name": "stdout",
          "text": [
            "mu: -0.7939248114932145\n"
          ]
        }
      ],
      "source": [
        "# <your turn>\n",
        "def integrand(x,a):\n",
        "    return my_pdf(x,a) * x\n",
        "\n",
        "def expectation_value(a):\n",
        "    # <your turn> : define the function so that it would return a number\n",
        "    # integrand = lambda x: x * my_pdf(x, a) -> can also do this way\n",
        "\n",
        "    return quad(integrand, -10, 10, args=(-10))[0]\n",
        "\n",
        "print('mu:',expectation_value(-10))"
      ]
    },
    {
      "cell_type": "markdown",
      "metadata": {
        "id": "PbJWwXNhKjwH"
      },
      "source": [
        "#### Standard Deviation"
      ]
    },
    {
      "cell_type": "code",
      "execution_count": 70,
      "metadata": {
        "id": "GcZjJaw0KjwH",
        "outputId": "d2713774-0c97-4aac-ddac-6fdc807bfad0",
        "colab": {
          "base_uri": "https://localhost:8080/"
        }
      },
      "outputs": [
        {
          "output_type": "stream",
          "name": "stdout",
          "text": [
            "sigma: 0.6080159485535425\n"
          ]
        }
      ],
      "source": [
        "# <your turn>\n",
        "def integrand2(x,a, e):\n",
        "  return (x-e)**2 * my_pdf(x,a)\n",
        "\n",
        "def standard_deviation(a):\n",
        "    # <your turn> : define the function so that it would return a number\n",
        "    e = expectation_value(-10)\n",
        "\n",
        "    return (quad(integrand2, -10, 10, args=(-10, e))[0])**(0.5)\n",
        "\n",
        "print('sigma:',standard_deviation(-10))"
      ]
    },
    {
      "cell_type": "markdown",
      "metadata": {
        "id": "srIgdY4BKjwI"
      },
      "source": [
        "#### Skewness"
      ]
    },
    {
      "cell_type": "code",
      "execution_count": 69,
      "metadata": {
        "id": "MTJKMLBOKjwI",
        "outputId": "687c2072-2a2d-481e-e72c-d2c70985ee28",
        "colab": {
          "base_uri": "https://localhost:8080/"
        }
      },
      "outputs": [
        {
          "output_type": "stream",
          "name": "stdout",
          "text": [
            "skewness: -0.9555570924911101\n"
          ]
        }
      ],
      "source": [
        "# <your turn>\n",
        "def integrand3(x,a,e,s):\n",
        "  return ((x-e)/s)**3 * my_pdf(x,a)#((x-expectation_value(a))/standard_deviation(a))**3 * my_pdf(x,a)\n",
        "\n",
        "def skewness(a):\n",
        "    # <your turn> : define the function so that it would return a number\n",
        "    e = expectation_value(-10)\n",
        "    s = standard_deviation(-10)\n",
        "\n",
        "\n",
        "    return quad(integrand3, -10, 10, args=(-10, e, s))[0]\n",
        "\n",
        "print('skewness:', skewness(-10))"
      ]
    },
    {
      "cell_type": "markdown",
      "metadata": {
        "id": "z-8CNl6zKjwI"
      },
      "source": [
        "#### Kurtosis"
      ]
    },
    {
      "cell_type": "code",
      "execution_count": 71,
      "metadata": {
        "id": "2H7dnOdvKjwI",
        "outputId": "f8e9f5b1-0484-4ec7-d024-190f3a117e46",
        "colab": {
          "base_uri": "https://localhost:8080/"
        }
      },
      "outputs": [
        {
          "output_type": "stream",
          "name": "stdout",
          "text": [
            "kurtosis: 0.823243537718338\n"
          ]
        }
      ],
      "source": [
        "# <your turn>\n",
        "def integrand4(x,a,e,s):\n",
        "  return ((x-e)/s)**4 * my_pdf(x,a)\n",
        "\n",
        "def kurtosis(a):\n",
        "    # <your turn> : define the function so that it would return a number\n",
        "    e = expectation_value(-10)\n",
        "    s = standard_deviation(-10)\n",
        "\n",
        "    return (quad(integrand4, -10, 10, args=(-10, e, s))[0] -3)\n",
        "\n",
        "print('kurtosis:', kurtosis(-10))"
      ]
    },
    {
      "cell_type": "markdown",
      "metadata": {
        "id": "GqdFiTqqKjwI"
      },
      "source": [
        "#### Mode"
      ]
    },
    {
      "cell_type": "code",
      "execution_count": 75,
      "metadata": {
        "id": "xqtQCRKRKjwI",
        "outputId": "c388805f-f7da-415f-f6d7-f9b66d700d2e",
        "colab": {
          "base_uri": "https://localhost:8080/"
        }
      },
      "outputs": [
        {
          "output_type": "stream",
          "name": "stdout",
          "text": [
            "mode: -0.2370237023702373\n"
          ]
        }
      ],
      "source": [
        "# <your turn>\n",
        "\n",
        "def mode(a):\n",
        "    # <your turn> : define the function so that it would return a number\n",
        "    x = np.linspace(-10,10,10000)\n",
        "    y = my_pdf(x,a)\n",
        "    max_index = np.argmax(y)\n",
        "\n",
        "    return x[max_index]\n",
        "\n",
        "print('mode:', mode(-10))"
      ]
    },
    {
      "cell_type": "markdown",
      "metadata": {
        "id": "N5n1Lx7GKjwJ"
      },
      "source": [
        "#### Median and 95% quantile\n",
        "\n",
        "*hint: the same function can do both. Define it as a function of $a$ and $q$ (quantile)*"
      ]
    },
    {
      "cell_type": "code",
      "execution_count": 82,
      "metadata": {
        "id": "G5tTOK-lKjwJ",
        "outputId": "303c7053-26ba-4ca7-fc44-fe2813798fa5",
        "colab": {
          "base_uri": "https://localhost:8080/"
        }
      },
      "outputs": [
        {
          "output_type": "stream",
          "name": "stdout",
          "text": [
            "median: None\n",
            "95%: None\n"
          ]
        },
        {
          "output_type": "stream",
          "name": "stderr",
          "text": [
            "/tmp/ipython-input-82-4253640745.py:7: RuntimeWarning: The iteration is not making good progress, as measured by the \n",
            " improvement from the last ten iterations.\n",
            "  fsolve(int_pdf, x0=1, args=(a,q))\n"
          ]
        }
      ],
      "source": [
        "# <your turn>\n",
        "def int_pdf(x_uplim, a, q):\n",
        "    return quad(my_pdf, -10, x_uplim, args=(a))[0] - q\n",
        "\n",
        "def quantile(a, q):\n",
        "    # <your turn> : define the function so that it would return a number\n",
        "    fsolve(int_pdf, x0=1, args=(a,q))\n",
        "    return\n",
        "\n",
        "print('median:', quantile(-10,0.5))\n",
        "print('95%:', quantile(-10,0.95))"
      ]
    },
    {
      "cell_type": "markdown",
      "metadata": {
        "id": "h2lDV9-4KjwJ"
      },
      "source": [
        "#### Now let's replot the PDF and the mean, median and mode values."
      ]
    },
    {
      "cell_type": "code",
      "execution_count": null,
      "metadata": {
        "id": "GABTN6hyKjwJ",
        "outputId": "304d24be-59fc-4864-d780-7fe95e20bd12"
      },
      "outputs": [
        {
          "name": "stderr",
          "output_type": "stream",
          "text": [
            "No artists with labels found to put in legend.  Note that artists whose label start with an underscore are ignored when legend() is called with no argument.\n"
          ]
        },
        {
          "data": {
            "image/png": "[encoded data removed]",
            "text/plain": [
              "<Figure size 800x600 with 1 Axes>"
            ]
          },
          "metadata": {},
          "output_type": "display_data"
        }
      ],
      "source": [
        "test_a = -10\n",
        "\n",
        "# <your turn> : define variables and calculations you may need here.\n",
        "\n",
        "\n",
        "\n",
        "# Initiating the figure\n",
        "fig = plt.figure(figsize=(8,6))\n",
        "ax = fig.add_subplot(1,1,1)\n",
        "# <your turn> : add your plotting commands here.\n",
        "# Note: use the keyword \"label\" to name them. This allows the legend command to produce a clear legend.\n",
        "\n",
        "\n",
        "\n",
        "\n",
        "\n",
        "\n",
        "# A special addition: We're going to print the value of a and function's skewness on the plot\n",
        "if type(skewness(test_a)) == float:\n",
        "    ax.text(-5,0.5,f'a = {test_a}',fontsize=14)\n",
        "    ax.text(-5,0.45,f'Skewness = {skewness(test_a):.2}',fontsize=14)\n",
        "\n",
        "# Plot cosmetics - feel free to edit.\n",
        "ax.legend(loc=2,fontsize=14)\n",
        "ax.set_xlabel('X',fontsize=20)\n",
        "ax.set_ylabel('PDF(X)', fontsize=20)\n",
        "ax.tick_params(axis='both', which='major', labelsize=16)\n",
        "ax.tick_params(axis='both', which='major', length=5)\n",
        "ax.tick_params(axis='both', which='minor', length=2.5)\n",
        "ax.tick_params(axis='both', which='both',direction='in',right=True,top=True);"
      ]
    },
    {
      "cell_type": "markdown",
      "metadata": {
        "id": "vsSx4NU0KjwJ"
      },
      "source": [
        "#### Rerun the last cell, with different values of a and check how Mean, Mode, Median and skewness vary."
      ]
    },
    {
      "cell_type": "markdown",
      "metadata": {
        "id": "AZ13iHdXKjwK"
      },
      "source": [
        "## You can now save the notebook and download it."
      ]
    }
  ],
  "metadata": {
    "kernelspec": {
      "display_name": "Python 3 (ipykernel)",
      "language": "python",
      "name": "python3"
    },
    "language_info": {
      "codemirror_mode": {
        "name": "ipython",
        "version": 3
      },
      "file_extension": ".py",
      "mimetype": "text/x-python",
      "name": "python",
      "nbconvert_exporter": "python",
      "pygments_lexer": "ipython3",
      "version": "3.9.7"
    },
    "colab": {
      "provenance": []
    }
  },
  "nbformat": 4,
  "nbformat_minor": 0
}